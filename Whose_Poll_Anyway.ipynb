{
  "nbformat": 4,
  "nbformat_minor": 0,
  "metadata": {
    "colab": {
      "name": "Whose Poll Anyway.ipynb",
      "provenance": [],
      "collapsed_sections": []
    },
    "kernelspec": {
      "name": "python3",
      "display_name": "Python 3"
    },
    "widgets": {
      "application/vnd.jupyter.widget-state+json": {
        "943677666b96444c86dd36a63668f9bf": {
          "model_module": "@jupyter-widgets/controls",
          "model_name": "VBoxModel",
          "state": {
            "_view_name": "VBoxView",
            "_dom_classes": [
              "widget-interact"
            ],
            "_model_name": "VBoxModel",
            "_view_module": "@jupyter-widgets/controls",
            "_model_module_version": "1.5.0",
            "_view_count": null,
            "_view_module_version": "1.5.0",
            "box_style": "",
            "layout": "IPY_MODEL_5197a7c6257c4431b6676e08678844da",
            "_model_module": "@jupyter-widgets/controls",
            "children": [
              "IPY_MODEL_c4c6595440d64dc6ade119750a4276b9",
              "IPY_MODEL_5b044a4d26d14f78a6cf24ace54aa5d7",
              "IPY_MODEL_21a6d3113d614e3cb6ce55c1ac89cb0a"
            ]
          }
        },
        "5197a7c6257c4431b6676e08678844da": {
          "model_module": "@jupyter-widgets/base",
          "model_name": "LayoutModel",
          "state": {
            "_view_name": "LayoutView",
            "grid_template_rows": null,
            "right": null,
            "justify_content": null,
            "_view_module": "@jupyter-widgets/base",
            "overflow": null,
            "_model_module_version": "1.2.0",
            "_view_count": null,
            "flex_flow": null,
            "width": null,
            "min_width": null,
            "border": null,
            "align_items": null,
            "bottom": null,
            "_model_module": "@jupyter-widgets/base",
            "top": null,
            "grid_column": null,
            "overflow_y": null,
            "overflow_x": null,
            "grid_auto_flow": null,
            "grid_area": null,
            "grid_template_columns": null,
            "flex": null,
            "_model_name": "LayoutModel",
            "justify_items": null,
            "grid_row": null,
            "max_height": null,
            "align_content": null,
            "visibility": null,
            "align_self": null,
            "height": null,
            "min_height": null,
            "padding": null,
            "grid_auto_rows": null,
            "grid_gap": null,
            "max_width": null,
            "order": null,
            "_view_module_version": "1.2.0",
            "grid_template_areas": null,
            "object_position": null,
            "object_fit": null,
            "grid_auto_columns": null,
            "margin": null,
            "display": null,
            "left": null
          }
        },
        "c4c6595440d64dc6ade119750a4276b9": {
          "model_module": "@jupyter-widgets/controls",
          "model_name": "DropdownModel",
          "state": {
            "_options_labels": [
              "All adults",
              "Registered/likely voters",
              "Any"
            ],
            "_view_name": "DropdownView",
            "style": "IPY_MODEL_73cd4747a26e46eab3654837d2b74ea0",
            "_dom_classes": [],
            "description": "Sample",
            "_model_name": "DropdownModel",
            "index": 2,
            "_view_module": "@jupyter-widgets/controls",
            "_model_module_version": "1.5.0",
            "_view_count": null,
            "disabled": false,
            "_view_module_version": "1.5.0",
            "description_tooltip": null,
            "_model_module": "@jupyter-widgets/controls",
            "layout": "IPY_MODEL_808eafaed9a84eef9ededa64aa9a0388"
          }
        },
        "5b044a4d26d14f78a6cf24ace54aa5d7": {
          "model_module": "@jupyter-widgets/controls",
          "model_name": "DropdownModel",
          "state": {
            "_options_labels": [
              "Includes \"Medicare-for-all\"",
              "Does not include \"Medicare-for-all\"",
              "Both"
            ],
            "_view_name": "DropdownView",
            "style": "IPY_MODEL_7809db3dc0814c6d8a5bfd0b96f825ac",
            "_dom_classes": [],
            "description": "Poll",
            "_model_name": "DropdownModel",
            "index": 2,
            "_view_module": "@jupyter-widgets/controls",
            "_model_module_version": "1.5.0",
            "_view_count": null,
            "disabled": false,
            "_view_module_version": "1.5.0",
            "description_tooltip": null,
            "_model_module": "@jupyter-widgets/controls",
            "layout": "IPY_MODEL_ef0c01caf7f7480199241f0c54586e05"
          }
        },
        "21a6d3113d614e3cb6ce55c1ac89cb0a": {
          "model_module": "@jupyter-widgets/output",
          "model_name": "OutputModel",
          "state": {
            "_view_name": "OutputView",
            "msg_id": "",
            "_dom_classes": [],
            "_model_name": "OutputModel",
            "outputs": [
              {
                "output_type": "display_data",
                "metadata": {
                  "tags": []
                },
                "image/png": "iVBORw0KGgoAAAANSUhEUgAAA7QAAAINCAYAAAAOdTOnAAAABHNCSVQICAgIfAhkiAAAAAlwSFlz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\nTkSuQmCC\n",
                "text/plain": "<Figure size 1152x576 with 1 Axes>"
              }
            ],
            "_view_module": "@jupyter-widgets/output",
            "_model_module_version": "1.0.0",
            "_view_count": null,
            "_view_module_version": "1.0.0",
            "layout": "IPY_MODEL_cbb20e766a444cb38219be0787b844a8",
            "_model_module": "@jupyter-widgets/output"
          }
        },
        "73cd4747a26e46eab3654837d2b74ea0": {
          "model_module": "@jupyter-widgets/controls",
          "model_name": "DescriptionStyleModel",
          "state": {
            "_view_name": "StyleView",
            "_model_name": "DescriptionStyleModel",
            "description_width": "",
            "_view_module": "@jupyter-widgets/base",
            "_model_module_version": "1.5.0",
            "_view_count": null,
            "_view_module_version": "1.2.0",
            "_model_module": "@jupyter-widgets/controls"
          }
        },
        "808eafaed9a84eef9ededa64aa9a0388": {
          "model_module": "@jupyter-widgets/base",
          "model_name": "LayoutModel",
          "state": {
            "_view_name": "LayoutView",
            "grid_template_rows": null,
            "right": null,
            "justify_content": null,
            "_view_module": "@jupyter-widgets/base",
            "overflow": null,
            "_model_module_version": "1.2.0",
            "_view_count": null,
            "flex_flow": null,
            "width": null,
            "min_width": null,
            "border": null,
            "align_items": null,
            "bottom": null,
            "_model_module": "@jupyter-widgets/base",
            "top": null,
            "grid_column": null,
            "overflow_y": null,
            "overflow_x": null,
            "grid_auto_flow": null,
            "grid_area": null,
            "grid_template_columns": null,
            "flex": null,
            "_model_name": "LayoutModel",
            "justify_items": null,
            "grid_row": null,
            "max_height": null,
            "align_content": null,
            "visibility": null,
            "align_self": null,
            "height": null,
            "min_height": null,
            "padding": null,
            "grid_auto_rows": null,
            "grid_gap": null,
            "max_width": null,
            "order": null,
            "_view_module_version": "1.2.0",
            "grid_template_areas": null,
            "object_position": null,
            "object_fit": null,
            "grid_auto_columns": null,
            "margin": null,
            "display": null,
            "left": null
          }
        },
        "7809db3dc0814c6d8a5bfd0b96f825ac": {
          "model_module": "@jupyter-widgets/controls",
          "model_name": "DescriptionStyleModel",
          "state": {
            "_view_name": "StyleView",
            "_model_name": "DescriptionStyleModel",
            "description_width": "",
            "_view_module": "@jupyter-widgets/base",
            "_model_module_version": "1.5.0",
            "_view_count": null,
            "_view_module_version": "1.2.0",
            "_model_module": "@jupyter-widgets/controls"
          }
        },
        "ef0c01caf7f7480199241f0c54586e05": {
          "model_module": "@jupyter-widgets/base",
          "model_name": "LayoutModel",
          "state": {
            "_view_name": "LayoutView",
            "grid_template_rows": null,
            "right": null,
            "justify_content": null,
            "_view_module": "@jupyter-widgets/base",
            "overflow": null,
            "_model_module_version": "1.2.0",
            "_view_count": null,
            "flex_flow": null,
            "width": null,
            "min_width": null,
            "border": null,
            "align_items": null,
            "bottom": null,
            "_model_module": "@jupyter-widgets/base",
            "top": null,
            "grid_column": null,
            "overflow_y": null,
            "overflow_x": null,
            "grid_auto_flow": null,
            "grid_area": null,
            "grid_template_columns": null,
            "flex": null,
            "_model_name": "LayoutModel",
            "justify_items": null,
            "grid_row": null,
            "max_height": null,
            "align_content": null,
            "visibility": null,
            "align_self": null,
            "height": null,
            "min_height": null,
            "padding": null,
            "grid_auto_rows": null,
            "grid_gap": null,
            "max_width": null,
            "order": null,
            "_view_module_version": "1.2.0",
            "grid_template_areas": null,
            "object_position": null,
            "object_fit": null,
            "grid_auto_columns": null,
            "margin": null,
            "display": null,
            "left": null
          }
        }
      }
    }
  },
  "cells": [
    {
      "cell_type": "markdown",
      "metadata": {
        "id": "-xHaDtC1ZaXi",
        "colab_type": "text"
      },
      "source": [
        "When it comes to political hot topics, people often cite public opinion polls as an argument for or against policy ideas. After all, shouldn't policy-makers consider that data in a representative democracy? Furthermore, polling offers some of the only evidence possible for judging whether a political candidate will win their race in a rapidly changing political climate."
      ]
    },
    {
      "cell_type": "markdown",
      "metadata": {
        "id": "hTJBN5HuQ4Uy",
        "colab_type": "text"
      },
      "source": [
        "#**But in a sea of information, choppy waters obscure underlying currents.**"
      ]
    },
    {
      "cell_type": "markdown",
      "metadata": {
        "id": "1CDHWuwrTwI9",
        "colab_type": "text"
      },
      "source": [
        "Media organizations and political commentators report on individual polls and rarely put them in context. Aggregate, 'big picture' analyses are rare and hard to find, even if you know exactly what you're looking for. Rhetoric around \"popularity\" and \"electability\" is presented without quantitative backing or nuance, more often just the intuition of the speaker with the platform. "
      ]
    },
    {
      "cell_type": "markdown",
      "metadata": {
        "id": "3oK7bqctW-bz",
        "colab_type": "text"
      },
      "source": [
        "Below we demonstrate a different approach, driven by data available accross the web. We collect the results of the many polls conducted for two trending topics in American politics: <br>\n",
        "Do Americans favor a single-payer healthcare system (\"Medicare for All\")? <br>\n",
        "How would the Democratic primary candidates fare against Trump in the general election?"
      ]
    },
    {
      "cell_type": "markdown",
      "metadata": {
        "id": "SQCMNYCQb9r3",
        "colab_type": "text"
      },
      "source": [
        "Keep in mind that pollsters generally report a margin of error of 2-3 percentage points, and make different assumptions about who counts as a 'likely voter'. Even averaging all the available polls cannot give a full story. Nonetheless, these trends are an important piece of it!"
      ]
    },
    {
      "cell_type": "markdown",
      "metadata": {
        "id": "EaFxKsxdjb1Y",
        "colab_type": "text"
      },
      "source": [
        "Click the play buttons on the left hand side to see results! (Only click 'show code' if you're interested in the Python we used) <br>"
      ]
    },
    {
      "cell_type": "markdown",
      "metadata": {
        "id": "hG0xVxFdg7iJ",
        "colab_type": "text"
      },
      "source": [
        "# Healthcare"
      ]
    },
    {
      "cell_type": "markdown",
      "metadata": {
        "id": "PAuTJlPvf6-U",
        "colab_type": "text"
      },
      "source": [
        "Interact with aggregations of public opinion polls in the last year:"
      ]
    },
    {
      "cell_type": "code",
      "metadata": {
        "id": "BOzlxY6mf7UG",
        "colab_type": "code",
        "cellView": "form",
        "outputId": "75b9a42f-d1ea-48df-edf8-9adb9f9967e6",
        "colab": {
          "base_uri": "https://localhost:8080/",
          "height": 606,
          "referenced_widgets": [
            "943677666b96444c86dd36a63668f9bf",
            "5197a7c6257c4431b6676e08678844da",
            "c4c6595440d64dc6ade119750a4276b9",
            "5b044a4d26d14f78a6cf24ace54aa5d7",
            "21a6d3113d614e3cb6ce55c1ac89cb0a",
            "73cd4747a26e46eab3654837d2b74ea0",
            "808eafaed9a84eef9ededa64aa9a0388",
            "7809db3dc0814c6d8a5bfd0b96f825ac",
            "ef0c01caf7f7480199241f0c54586e05"
          ]
        }
      },
      "source": [
        "#@title\n",
        "# import packages needed for interactive graph\n",
        "%matplotlib inline\n",
        "import pandas as pd\n",
        "from ipywidgets import interactive\n",
        "from IPython.display import display\n",
        "import matplotlib.pyplot as plt\n",
        "import numpy as np\n",
        "from pandas.plotting import register_matplotlib_converters\n",
        "register_matplotlib_converters()\n",
        "import ipywidgets as widgets\n",
        "# read in data uploaded to github, a csv of polls results from various organizations retrieved from Kaiser Family Foundation\n",
        "Mpolls = pd.read_csv('https://raw.githubusercontent.com/kgbolton/Whose-Poll-Anyway/master/Trend_data.csv')\n",
        "Mpolls['Field End Date'] = pd.to_datetime(Mpolls['Field End Date'])\n",
        "# add percent favorability function\n",
        "Mpolls['Pfavor'] = Mpolls.Favor/(Mpolls.Favor+Mpolls.Oppose)*100\n",
        "# define a function to graph the subset of polls that the user selects\n",
        "def f(Sample, Poll):\n",
        "    if Poll == 'Both':\n",
        "      pgraph = Mpolls\n",
        "    else:\n",
        "      pgraph = Mpolls.loc[Mpolls['Medicare-for-all'] == Poll,:]\n",
        "    if Sample == 'Any':\n",
        "      pgraph = pgraph\n",
        "    elif Sample == 'All adults':\n",
        "      pgraph = pgraph.loc[pgraph['Sample'] == 'All adults',:]\n",
        "    else:\n",
        "      pgraph = pgraph.loc[pgraph['Sample'] != 'All adults',:]\n",
        "    plt.figure(figsize=(16,8))\n",
        "    plt.scatter(pgraph['Field End Date'], pgraph['Pfavor'])\n",
        "    plt.grid(b=True, axis='y')\n",
        "    plt.axhline(y = pgraph['Pfavor'].mean(), color='red', label=\"Average\")\n",
        "    plt.ylim(0, 100)\n",
        "    plt.yticks(np.arange(0, 100, 5))\n",
        "    plt.xticks(np.arange(np.datetime64(min(Mpolls['Field End Date'])), np.datetime64(max(Mpolls['Field End Date'])+np.timedelta64(90, 'D')), np.timedelta64(90, 'D')), rotation=60)\n",
        "    plt.xlabel(\"Date of Poll Taken\")\n",
        "    plt.ylabel(\"Percent that would favor single payer health care system\")\n",
        "    plt.legend()\n",
        "    plt.show()\n",
        "# make function inputs interactive, then deploy\n",
        "healthcare_plot = interactive(f, Sample = ['All adults', 'Registered/likely voters', 'Any'], Poll = ['Includes \"Medicare-for-all\"', 'Does not include \"Medicare-for-all\"', 'Both'])\n",
        "healthcare_plot"
      ],
      "execution_count": 0,
      "outputs": [
        {
          "output_type": "display_data",
          "data": {
            "application/vnd.jupyter.widget-view+json": {
              "model_id": "943677666b96444c86dd36a63668f9bf",
              "version_minor": 0,
              "version_major": 2
            },
            "text/plain": [
              "interactive(children=(Dropdown(description='Sample', options=('All adults', 'Registered/likely voters', 'Any')…"
            ]
          },
          "metadata": {
            "tags": []
          }
        }
      ]
    },
    {
      "cell_type": "markdown",
      "metadata": {
        "id": "HFF5ojRlXUKF",
        "colab_type": "text"
      },
      "source": [
        "Scrape graphs about public opinion on healthcare from Gallup:"
      ]
    },
    {
      "cell_type": "code",
      "metadata": {
        "id": "DBg36J4Cb-CT",
        "colab_type": "code",
        "cellView": "both",
        "colab": {}
      },
      "source": [
        "#DO NOT RUN if chromedriver & selenium are already installed - this will reinstall\n",
        "#This installs the web browser needed for web scraping from Gallup.\n",
        "!apt install chromium-chromedriver\n",
        "!pip install selenium"
      ],
      "execution_count": 0,
      "outputs": []
    },
    {
      "cell_type": "code",
      "metadata": {
        "id": "X0028c6khB9k",
        "colab_type": "code",
        "cellView": "form",
        "colab": {}
      },
      "source": [
        "#@title\n",
        "#import libraries\n",
        "import os\n",
        "import re\n",
        "from bs4 import BeautifulSoup\n",
        "from selenium import webdriver\n",
        "from selenium.webdriver.common.keys import Keys\n",
        "from google.colab import files\n",
        "import urllib.request\n",
        "\n",
        "#initialize the browser (these settings are specific to Google Colab - don't tweak)\n",
        "options = webdriver.ChromeOptions()\n",
        "options.add_argument('--headless')\n",
        "options.add_argument('--no-sandbox')\n",
        "options.add_argument('--disable-dev-shm-usage')\n",
        "\n",
        "browser = webdriver.Chrome('chromedriver',options=options)\n",
        "\n",
        "#Open the browser to Gallup's home page. The browser is headless (not visible).\n",
        "browser.get(\"https://www.gallup.com/home.aspx\")\n",
        "\n",
        "#Navigate to the search bar, ask user for a search term, then enter it and submit.\n",
        "searchIcon = browser.find_element_by_class_name('c-gmn-search-toggle')\n",
        "searchIcon.click()\n",
        "searchBar = browser.find_element_by_class_name('c-search__input')\n",
        "searchTerm = input('Enter a search term: ')\n",
        "searchBar.send_keys(searchTerm)\n",
        "searchBar.send_keys(Keys.ENTER)\n",
        "\n",
        "#Scrape article titles\n",
        "html = browser.page_source\n",
        "soup = BeautifulSoup(html, 'html.parser')\n",
        "messyTitles = soup.find_all(class_=\"c-search-page__result-title\")\n",
        "articleList = []\n",
        "for article in messyTitles:\n",
        "    titleLoc = [re.search('<span>.*</span>', str(article)).start() + 6, \\\n",
        "                re.search('<span>.*</span>', str(article)).end() - 7]\n",
        "    title = str(article)[titleLoc[0]:titleLoc[1]]\n",
        "    articleList.append(title)\n",
        "\n",
        "#Display article titles in a menu and have user input a selection.\n",
        "counter = 1\n",
        "print()\n",
        "for article in articleList:\n",
        "    print(str(counter) + ': ' + article)\n",
        "    counter += 1\n",
        "choiceNum = int(input('Which article\\'s graphs would you like to view? ')) - 1\n",
        "choice = articleList[choiceNum]\n",
        "\n",
        "#Navigate to the selected article.\n",
        "soup = BeautifulSoup(browser.page_source, 'html.parser')\n",
        "articleLinks = soup.find_all(class_='c-search-page__result')\n",
        "urlLoc = [re.search(r'href=\".*\\.aspx', str(articleLinks[choiceNum])).start() + 6, \\\n",
        "          re.search(r'href=\".*\\.aspx', str(articleLinks[choiceNum])).end()]\n",
        "selectionUrl = str(articleLinks[choiceNum])[urlLoc[0]:urlLoc[1]]\n",
        "browser.get(selectionUrl)\n",
        "\n",
        "\n",
        "#Scrape the article for graphs. \n",
        "#This part could be made more robust; Gallup is sometimes inconsistent \n",
        "#with their naming conventions on their pages, so graphs can be missed.\n",
        "html = browser.page_source\n",
        "soup = BeautifulSoup(html, 'html.parser')\n",
        "graphs = re.findall(r'[gG]raph.*src=\".*\\.png', str(soup))\n",
        "graphlinks = []\n",
        "\n",
        "#Two methods of searching for graphs to avoid missing any. Again, due to \n",
        "#inconsistent or changing naming conventions/html styles in different articles\n",
        "for graph in graphs:\n",
        "    mo = re.search(r'src=\".*\\.png', str(graph))\n",
        "    link = str(graph)[(mo.start()+5):(mo.end())]\n",
        "    graphlinks.append(link)\n",
        "graphs2 = soup.find_all(class_=\"sggt-image\")\n",
        "for graph in graphs2:\n",
        "    mo = re.search(r'src=\".*\\.png', str(graph))\n",
        "    link = str(graph)[(mo.start()+5):(mo.end())]\n",
        "    graphlinks.append(link)\n",
        "\n",
        "#Eliminate duplicates that were picked up with multiple of the methods above\n",
        "graphlinks = list(set(graphlinks))\n",
        "\n",
        "#Tell the user how many graphs were found\n",
        "if len(graphlinks) == 0:\n",
        "    message = 'No data visualizations were found in the article \"' + choice + '\"'\n",
        "elif len(graphlinks) == 1:\n",
        "    message = 'One data visualization was found in the article \"' + choice + '\"'\n",
        "else:\n",
        "    message = str(len(graphlinks)) + ' data visualizations were found in the article \"' + choice + '\"'\n",
        "print()\n",
        "print(message)\n",
        "print('(Article location: ' + str(browser.current_url) + ')')\n",
        "print()\n",
        "\n",
        "#save graph images to current directory and display links and updates for the user\n",
        "nameCounter = 1\n",
        "for graph in graphlinks:\n",
        "    name = 'downloadedGraph' + str(nameCounter)\n",
        "    nameCounter += 1\n",
        "    link = 'http:' + graph\n",
        "    urllib.request.urlretrieve(link, name)\n",
        "    print()\n",
        "    print('\"' + name + '\"' + ' was saved to the current directory, from ' + link)\n",
        "\n",
        "#Close the browser\n",
        "browser.quit()"
      ],
      "execution_count": 0,
      "outputs": []
    },
    {
      "cell_type": "markdown",
      "metadata": {
        "id": "iooTdRlqfWM1",
        "colab_type": "text"
      },
      "source": [
        "See sentiment analysis from a sample of U.S. Tweets about single-payer/Medicare for All:"
      ]
    },
    {
      "cell_type": "code",
      "metadata": {
        "id": "BpaHbf59R4ig",
        "colab_type": "code",
        "cellView": "form",
        "colab": {}
      },
      "source": [
        "#@title\n",
        "# IMPORT PYTHON PACKAGES -------------------------------------------------------------------------------------------\n",
        "\n",
        "import pandas as pd\n",
        "import matplotlib.pyplot as plt\n",
        "\n",
        "# IMPORT CSV DOCUMENT -------------------------------------------------------------------------------------------\n",
        "\n",
        "twitter_data = pd.read_csv('https://raw.githubusercontent.com/kgbolton/Whose-Poll-Anyway/master/twitter_data%20(1).csv')\n",
        "\n",
        "# GRAPHICS FOR SENTIMENT ANALYSIS -------------------------------------------------------------------------------------\n",
        "\n",
        "# 1. Create a summary table where we can look at the nunmber of tweets per positive, negative and netural sentiments\n",
        "\n",
        "sentiment_analysis = pd.DataFrame(twitter_data[['text','sentiment']].groupby('sentiment').count()).reset_index()\n",
        "\n",
        "# 2. Create two separate variables named x and y to prepare for the data visualization\n",
        "\n",
        "x = sentiment_analysis['sentiment']\n",
        "y = sentiment_analysis['text']\n",
        "\n",
        "# 3. Create bar graphs representing negative, neutral and positive sentiments based on the number of tweets\n",
        "\n",
        "plt.figure(figsize=(16,8))\n",
        "plt.title('Sentiment Twitter Analysis for Medicare for All')\n",
        "plt.ylabel('# of Tweets')\n",
        "plt.bar(x,y,color=(\"red\",\"yellow\",\"green\"))\n",
        "plt.show()"
      ],
      "execution_count": 0,
      "outputs": []
    },
    {
      "cell_type": "markdown",
      "metadata": {
        "id": "L69-qq1Qgy2U",
        "colab_type": "text"
      },
      "source": [
        "# Electability"
      ]
    },
    {
      "cell_type": "markdown",
      "metadata": {
        "id": "KbXjSzQkhAve",
        "colab_type": "text"
      },
      "source": [
        "Compare national and state-wide aggregate polling results for general election matchups:"
      ]
    },
    {
      "cell_type": "code",
      "metadata": {
        "id": "FRoENJCOb-Qj",
        "colab_type": "code",
        "cellView": "form",
        "colab": {}
      },
      "source": [
        "#@title\n",
        "# import packages needed for interactive graph\n",
        "%matplotlib inline\n",
        "import pandas as pd\n",
        "from ipywidgets import interactive\n",
        "from IPython.display import display\n",
        "import matplotlib.pyplot as plt\n",
        "import numpy as np\n",
        "from pandas.plotting import register_matplotlib_converters\n",
        "register_matplotlib_converters()\n",
        "import ipywidgets as widgets\n",
        "from matplotlib.lines import Line2D\n",
        "# read in data uploaded to github, 363 presidential choice polls pulled from 538\n",
        "Epolls = pd.read_csv('https://raw.githubusercontent.com/kgbolton/Whose-Poll-Anyway/master/president_polls.csv')\n",
        "Epolls['state'] = Epolls.state.fillna('National')\n",
        "# create legend icons for explaining the sample options\n",
        "legend_elements = [Line2D([0], [0], marker='o', color='w', markerfacecolor='black', markersize=20),\n",
        "                   Line2D([0], [0], marker='o', color='w', markerfacecolor='gray', markersize=15),\n",
        "                   Line2D([0], [0], marker='o', color='w', markerfacecolor='lightgray', markersize=10)]\n",
        "# define a function to graph the subset of polls that the user selects\n",
        "def e(State, Sample):\n",
        "    egraph = Epolls.loc[Epolls['state'] == State,:]\n",
        "    if Sample == 'any':\n",
        "      egraph = egraph\n",
        "    else:\n",
        "      egraph = egraph.loc[egraph['population'] == Sample,:]\n",
        "    Svotes = egraph.loc[egraph['answer'] == 'Sanders',:]\n",
        "    Bvotes = egraph.loc[egraph['answer'] == 'Biden',:]\n",
        "    Tvotes = egraph.loc[egraph['answer'] == 'Trump',:]\n",
        "    fig, axs = plt.subplots(1, 2, figsize=(8, 8))\n",
        "    p1names = ['Biden', 'Trump']\n",
        "    p2names = ['Sanders', 'Trump']\n",
        "    p1values = [round(Bvotes['pct'].mean(),2), round(Tvotes['pct'].mean(),2)]\n",
        "    p2values = [round(Svotes['pct'].mean(),2), round(Tvotes['pct'].mean(),2)]\n",
        "    axs[0].bar(p1names, p1values, color=['blue', 'red'])\n",
        "    axs[1].bar(p2names, p2values, color=['blue', 'red'])\n",
        "    axs[0].set_ylim([0, 100])\n",
        "    axs[0].set_yticks(np.arange(0, 100, 5))\n",
        "    axs[1].set_ylim([0, 100])\n",
        "    axs[1].set_yticks(np.arange(0, 100, 5))\n",
        "    axs[0].grid(axis = \"y\", linestyle='--')\n",
        "    axs[1].grid(axis = \"y\", linestyle='--')\n",
        "    axs[0].text(p1names[0], p1values[0]+3, p1values[0], ha='center')\n",
        "    axs[0].text(p1names[1], p1values[1]+3, p1values[1], ha='center')\n",
        "    axs[1].text(p2names[0], p2values[0]+3, p2values[0], ha='center')\n",
        "    axs[1].text(p2names[1], p2values[1]+3, p2values[1], ha='center')\n",
        "    plt.figlegend(handles = legend_elements, labels = ['a: all adults', 'rv: registered voters', 'lv: likely voters'], loc = 'upper left', labelspacing = 2)\n",
        "    fig.show()\n",
        "# make function inputs interactive, then deploy\n",
        "electability_plot = interactive(e, State = Epolls['state'].unique().tolist(), Sample = ['any', 'a', 'rv', 'lv'])\n",
        "electability_plot"
      ],
      "execution_count": 0,
      "outputs": []
    }
  ]
}